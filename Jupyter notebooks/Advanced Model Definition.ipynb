{
 "cells": [
  {
   "cell_type": "markdown",
   "metadata": {},
   "source": [
    "## Loading the Data set:\n"
   ]
  },
  {
   "cell_type": "code",
   "execution_count": 1,
   "metadata": {},
   "outputs": [],
   "source": [
    "import pandas as pd\n",
    "import csv\n",
    "import tensorflow as tf\n",
    "import numpy as np\n",
    "from tensorflow.keras.preprocessing.text import Tokenizer\n",
    "from tensorflow.keras.preprocessing.sequence import pad_sequences\n",
    "from sklearn.model_selection import train_test_split\n",
    "\n",
    "import pickle\n",
    "import matplotlib.pyplot as plt"
   ]
  },
  {
   "cell_type": "markdown",
   "metadata": {},
   "source": [
    "<b>Defining the different flairs that will be available.</b>"
   ]
  },
  {
   "cell_type": "code",
   "execution_count": 2,
   "metadata": {},
   "outputs": [],
   "source": [
    "flairs = [\"AskIndia\", \"Non-Political\",\"Scheduled\", \"Photography\", \"Science/Technology\",\n",
    "        \"Politics\", \"Business/Finance\", \"Policy/Economy\", \"Sports\", \"Food\"]"
   ]
  },
  {
   "cell_type": "code",
   "execution_count": 3,
   "metadata": {},
   "outputs": [
    {
     "name": "stdout",
     "output_type": "stream",
     "text": [
      "0    differ stage hair loss perfect order mumbai lo...\n",
      "1    women gather dust storm rajasthan. nan. steve ...\n",
      "2    zoom took shot night supermoon stack detail lu...\n",
      "3    wild gaur nagarahol nation park. nan. wild pro...\n",
      "4    puffi superdog zenfon. nan. nice have tree hou...\n",
      "Name: combined_features, dtype: object\n",
      "(2422,)\n"
     ]
    }
   ],
   "source": [
    "data = pd.read_csv('f_300_clean.csv')\n",
    "data.fillna(\"\",inplace = True)\n",
    "\n",
    "data.replace({'flair': {\"AskIndia\": 0, \"Non-Political\": 1,\n",
    "                      \"Scheduled\": 2, \"Photography\": 3,\n",
    "                     \"Science/Technology\": 4, \"Politics\": 5,\n",
    "                     \"Business/Finance\": 6, \"Policy/Economy\": 7,\n",
    "                     \"Sports\": 8, \"Food\": 9 }}, inplace=True)\n",
    "\n",
    "Y = data.flair\n",
    "X = data.combined_features\n",
    "\n",
    "print(X.head())\n",
    "print(X.shape)"
   ]
  },
  {
   "cell_type": "markdown",
   "metadata": {},
   "source": [
    "<b>\n",
    "Splitting the data into Training and Testing for valuation of accuracy and validation</b>"
   ]
  },
  {
   "cell_type": "code",
   "execution_count": 4,
   "metadata": {},
   "outputs": [
    {
     "name": "stdout",
     "output_type": "stream",
     "text": [
      "1937\n",
      "485\n"
     ]
    }
   ],
   "source": [
    "X_train, X_test, Y_train, Y_test = train_test_split(X, Y, test_size=0.2, random_state = 42)\n",
    "print(len(X_train))\n",
    "print(len(X_test))"
   ]
  },
  {
   "cell_type": "markdown",
   "metadata": {},
   "source": [
    "<b>\n",
    "    Initializing some essential variables.\n",
    "    </b>\n",
    " "
   ]
  },
  {
   "cell_type": "code",
   "execution_count": 5,
   "metadata": {},
   "outputs": [],
   "source": [
    "vocab_size = 5000\n",
    "embedding_dim = 64\n",
    "max_length = 200\n",
    "trunc_type = 'post'\n",
    "padding_type = 'post'\n",
    "oov_tok = '<OOV>'\n",
    "training_portion = .8"
   ]
  },
  {
   "cell_type": "markdown",
   "metadata": {},
   "source": [
    "## Corpus Tokenization:\n",
    "<br>\n",
    "<b>\n",
    "Now i Vectorized the training corpus, by turning each text into either a sequence of integers. The vocabulary size has been set to 5000 words.\n",
    "    </b>"
   ]
  },
  {
   "cell_type": "code",
   "execution_count": 6,
   "metadata": {},
   "outputs": [
    {
     "data": {
      "text/plain": [
       "{'like': 2,\n",
       " 'peopl': 3,\n",
       " 'hai': 4,\n",
       " 'india': 5,\n",
       " 'http': 6,\n",
       " 'time': 7,\n",
       " 'good': 8,\n",
       " 'delet': 9,\n",
       " 'com': 10}"
      ]
     },
     "execution_count": 6,
     "metadata": {},
     "output_type": "execute_result"
    }
   ],
   "source": [
    "tokenizer = Tokenizer(num_words = vocab_size, oov_token=oov_tok)\n",
    "tokenizer.fit_on_texts(X_train)\n",
    "word_index = tokenizer.word_index\n",
    "dict(list(word_index.items())[1:10])"
   ]
  },
  {
   "cell_type": "markdown",
   "metadata": {},
   "source": [
    "<b>\n",
    "    Saving this tokenizer in a pickle file so that we can use this feature in the WebApp also."
   ]
  },
  {
   "cell_type": "code",
   "execution_count": 7,
   "metadata": {},
   "outputs": [],
   "source": [
    "with open('tokenizer.pickle', 'wb') as handle:\n",
    "    pickle.dump(tokenizer, handle, protocol=pickle.HIGHEST_PROTOCOL)"
   ]
  },
  {
   "cell_type": "markdown",
   "metadata": {},
   "source": [
    "<b>\n",
    "Converting text to sequences using the Tokenizer.\n",
    "    <br>\n",
    "    Adding padding of 0 to each entry in the training data to make the maximum size uniform.\n",
    "</b>"
   ]
  },
  {
   "cell_type": "code",
   "execution_count": 8,
   "metadata": {},
   "outputs": [],
   "source": [
    "X_train = tokenizer.texts_to_sequences(X_train)\n",
    "X_train = pad_sequences(X_train, maxlen=max_length, padding=padding_type, truncating=trunc_type)\n",
    "#print(X_train[0])"
   ]
  },
  {
   "cell_type": "markdown",
   "metadata": {},
   "source": [
    "<b>Prepareing the Test data also</b>"
   ]
  },
  {
   "cell_type": "code",
   "execution_count": 9,
   "metadata": {},
   "outputs": [],
   "source": [
    "X_test = tokenizer.texts_to_sequences(X_test)\n",
    "X_test = pad_sequences(X_test, maxlen=max_length, padding=padding_type, truncating=trunc_type)"
   ]
  },
  {
   "cell_type": "markdown",
   "metadata": {},
   "source": [
    "<b> Converting the Result Column of the dataframe into a numpy array"
   ]
  },
  {
   "cell_type": "code",
   "execution_count": 10,
   "metadata": {},
   "outputs": [
    {
     "name": "stdout",
     "output_type": "stream",
     "text": [
      "1606    9\n",
      "1517    9\n",
      "1848    5\n",
      "1260    8\n",
      "118     3\n",
      "Name: flair, dtype: int64\n",
      "613     0\n",
      "1266    8\n",
      "892     6\n",
      "296     4\n",
      "611     0\n",
      "Name: flair, dtype: int64\n"
     ]
    }
   ],
   "source": [
    "print(Y_train.head())\n",
    "print(Y_test.head())\n",
    "Y_train = np.asarray(Y_train)\n",
    "Y_test = np.asarray(Y_test)"
   ]
  },
  {
   "cell_type": "markdown",
   "metadata": {},
   "source": [
    "## Defining a function which plots:\n",
    "<b>\n",
    "<br>\n",
    "The Training and Validation Accuracy V/S number of Epoch\n",
    "<br>\n",
    "The Training and Validation Loss V/S number of Epoch\n",
    "</b>"
   ]
  },
  {
   "cell_type": "code",
   "execution_count": 11,
   "metadata": {},
   "outputs": [],
   "source": [
    "import matplotlib.pyplot as plt\n",
    "plt.style.use('ggplot')\n",
    "\n",
    "def plot_history(history):\n",
    "    acc = history.history['accuracy']\n",
    "    val_acc = history.history['val_accuracy']\n",
    "    loss = history.history['loss']\n",
    "    val_loss = history.history['val_loss']\n",
    "    x = range(1, len(acc) + 1)\n",
    "\n",
    "    plt.figure(figsize=(12, 5))\n",
    "    plt.subplot(1, 2, 1)\n",
    "    plt.plot(x, acc, 'b', label='Training acc')\n",
    "    plt.plot(x, val_acc, 'r', label='Validation acc')\n",
    "    plt.title('Training and validation accuracy')\n",
    "    plt.legend()\n",
    "    plt.subplot(1, 2, 2)\n",
    "    plt.plot(x, loss, 'b', label='Training loss')\n",
    "    plt.plot(x, val_loss, 'r', label='Validation loss')\n",
    "    plt.title('Training and validation loss')\n",
    "    plt.legend()"
   ]
  },
  {
   "cell_type": "markdown",
   "metadata": {},
   "source": [
    "## Define the Sequential Model:\n",
    "<br>\n",
    "<b>\n",
    "    After experimenting and evaluating various models and tuning their hyper parameters, i have selected this sequential model."
   ]
  },
  {
   "cell_type": "code",
   "execution_count": 17,
   "metadata": {},
   "outputs": [
    {
     "name": "stdout",
     "output_type": "stream",
     "text": [
      "Model: \"sequential_1\"\n",
      "_________________________________________________________________\n",
      "Layer (type)                 Output Shape              Param #   \n",
      "=================================================================\n",
      "embedding_1 (Embedding)      (None, 200, 64)           320000    \n",
      "_________________________________________________________________\n",
      "global_max_pooling1d_1 (Glob (None, 64)                0         \n",
      "_________________________________________________________________\n",
      "dense_2 (Dense)              (None, 1000)              65000     \n",
      "_________________________________________________________________\n",
      "dropout_1 (Dropout)          (None, 1000)              0         \n",
      "_________________________________________________________________\n",
      "dense_3 (Dense)              (None, 10)                10010     \n",
      "=================================================================\n",
      "Total params: 395,010\n",
      "Trainable params: 395,010\n",
      "Non-trainable params: 0\n",
      "_________________________________________________________________\n"
     ]
    }
   ],
   "source": [
    "input_dim = X_train.shape[1]  # Number of features\n",
    "\n",
    "model = tf.keras.Sequential([\n",
    "    tf.keras.layers.Embedding(vocab_size, embedding_dim, input_length=max_length),\n",
    "    tf.keras.layers.GlobalMaxPool1D(),\n",
    "    tf.keras.layers.Dense(1000, activation='relu'),\n",
    "    tf.keras.layers.Dropout(0.5),\n",
    "    tf.keras.layers.Dense(10, activation='softmax')\n",
    "])\n",
    "model.summary()\n",
    "model.compile(loss='sparse_categorical_crossentropy', optimizer='adam', metrics=['accuracy'])"
   ]
  },
  {
   "cell_type": "markdown",
   "metadata": {},
   "source": [
    "<b>Fitting the model and also Saving the Weights in a h5 file for implementing in the WebApp."
   ]
  },
  {
   "cell_type": "code",
   "execution_count": 18,
   "metadata": {},
   "outputs": [
    {
     "name": "stdout",
     "output_type": "stream",
     "text": [
      "Train on 1937 samples, validate on 485 samples\n",
      "Epoch 1/15\n",
      "1937/1937 [==============================] - 1s 408us/sample - loss: 2.3030 - accuracy: 0.1033 - val_loss: 2.2929 - val_accuracy: 0.1052\n",
      "Epoch 2/15\n",
      "1937/1937 [==============================] - 1s 327us/sample - loss: 2.2334 - accuracy: 0.1704 - val_loss: 2.0894 - val_accuracy: 0.2103\n",
      "Epoch 3/15\n",
      "1937/1937 [==============================] - 1s 422us/sample - loss: 1.9026 - accuracy: 0.3335 - val_loss: 1.7814 - val_accuracy: 0.3876\n",
      "Epoch 4/15\n",
      "1937/1937 [==============================] - 1s 427us/sample - loss: 1.5492 - accuracy: 0.4760 - val_loss: 1.4755 - val_accuracy: 0.5052\n",
      "Epoch 5/15\n",
      "1937/1937 [==============================] - 1s 413us/sample - loss: 1.1261 - accuracy: 0.6531 - val_loss: 1.2305 - val_accuracy: 0.5938\n",
      "Epoch 6/15\n",
      "1937/1937 [==============================] - 1s 422us/sample - loss: 0.8180 - accuracy: 0.7506 - val_loss: 1.1278 - val_accuracy: 0.6103\n",
      "Epoch 7/15\n",
      "1937/1937 [==============================] - 1s 431us/sample - loss: 0.6293 - accuracy: 0.8069 - val_loss: 1.1067 - val_accuracy: 0.6062\n",
      "Epoch 8/15\n",
      "1937/1937 [==============================] - 1s 437us/sample - loss: 0.4849 - accuracy: 0.8611 - val_loss: 1.1142 - val_accuracy: 0.6165\n",
      "Epoch 9/15\n",
      "1937/1937 [==============================] - 1s 424us/sample - loss: 0.3627 - accuracy: 0.9024 - val_loss: 1.1103 - val_accuracy: 0.6495\n",
      "Epoch 10/15\n",
      "1937/1937 [==============================] - 1s 429us/sample - loss: 0.2627 - accuracy: 0.9401 - val_loss: 1.1460 - val_accuracy: 0.6474\n",
      "Epoch 11/15\n",
      "1937/1937 [==============================] - 1s 425us/sample - loss: 0.1964 - accuracy: 0.9602 - val_loss: 1.1936 - val_accuracy: 0.6392\n",
      "Epoch 12/15\n",
      "1937/1937 [==============================] - 1s 436us/sample - loss: 0.1434 - accuracy: 0.9726 - val_loss: 1.1915 - val_accuracy: 0.6412\n",
      "Epoch 13/15\n",
      "1937/1937 [==============================] - 1s 416us/sample - loss: 0.1046 - accuracy: 0.9871 - val_loss: 1.2403 - val_accuracy: 0.6268\n",
      "Epoch 14/15\n",
      "1937/1937 [==============================] - 1s 425us/sample - loss: 0.0751 - accuracy: 0.9923 - val_loss: 1.2962 - val_accuracy: 0.6454\n",
      "Epoch 15/15\n",
      "1937/1937 [==============================] - 1s 440us/sample - loss: 0.0572 - accuracy: 0.9969 - val_loss: 1.3275 - val_accuracy: 0.6454\n"
     ]
    }
   ],
   "source": [
    "num_epochs = 15\n",
    "history = model.fit(X_train, Y_train, epochs=num_epochs, validation_data=(X_test, Y_test), verbose=True)\n",
    "\n",
    "model.reset_metrics()\n",
    "model.save('DL_Model.h5')"
   ]
  },
  {
   "cell_type": "code",
   "execution_count": 19,
   "metadata": {},
   "outputs": [
    {
     "name": "stdout",
     "output_type": "stream",
     "text": [
      "Training Accuracy: 0.9995\n",
      "Testing Accuracy:  0.6454\n"
     ]
    },
    {
     "data": {
      "image/png": "[encoded data removed]",
      "text/plain": [
       "<Figure size 864x360 with 2 Axes>"
      ]
     },
     "metadata": {},
     "output_type": "display_data"
    }
   ],
   "source": [
    "plot_history(history)\n",
    "loss, accuracy = model.evaluate(X_train, Y_train, verbose=False)\n",
    "print(\"Training Accuracy: {:.4f}\".format(accuracy))\n",
    "loss, accuracy = model.evaluate(X_test, Y_test, verbose=False)\n",
    "print(\"Testing Accuracy:  {:.4f}\".format(accuracy))"
   ]
  },
  {
   "cell_type": "code",
   "execution_count": null,
   "metadata": {},
   "outputs": [],
   "source": []
  }
 ],
 "metadata": {
  "kernelspec": {
   "display_name": "Python 3",
   "language": "python",
   "name": "python3"
  },
  "language_info": {
   "codemirror_mode": {
    "name": "ipython",
    "version": 3
   },
   "file_extension": ".py",
   "mimetype": "text/x-python",
   "name": "python",
   "nbconvert_exporter": "python",
   "pygments_lexer": "ipython3",
   "version": "3.6.9"
  }
 },
 "nbformat": 4,
 "nbformat_minor": 4
}
