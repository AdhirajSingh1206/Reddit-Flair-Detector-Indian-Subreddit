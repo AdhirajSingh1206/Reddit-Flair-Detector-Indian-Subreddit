{
 "cells": [
  {
   "cell_type": "markdown",
   "metadata": {},
   "source": [
    "# Baseline Model selection Experiment-Log\n",
    "<br>\n",
    "\n",
    "<b>\n",
    "    Evaluated a variety a Linear and Non-linear Models provided by Sklearn.\n",
    "    <br>\n",
    "    Further Validation of each model was also done using K-Fold validation as it is best suited for a smaller sized data set."
   ]
  },
  {
   "cell_type": "code",
   "execution_count": 23,
   "metadata": {},
   "outputs": [],
   "source": [
    "from sklearn.model_selection import train_test_split\n",
    "from sklearn.pipeline import Pipeline\n",
    "from sklearn.feature_extraction.text import TfidfTransformer\n",
    "from sklearn.feature_extraction.text import CountVectorizer\n",
    "\n",
    "from sklearn.naive_bayes import MultinomialNB\n",
    "from sklearn.linear_model import SGDClassifier\n",
    "from sklearn.linear_model import LogisticRegression\n",
    "from sklearn.ensemble import RandomForestClassifier\n",
    "from sklearn.neural_network import MLPClassifier\n",
    "from sklearn.externals import joblib\n",
    "from xgboost import XGBClassifier\n",
    "\n",
    "from sklearn.model_selection import cross_val_score, cross_val_predict\n",
    "from sklearn.metrics import mean_squared_error,r2_score\n",
    "from sklearn.model_selection import KFold\n",
    "from sklearn import metrics\n",
    "from sklearn.metrics import classification_report\n",
    "from sklearn.metrics import accuracy_score, confusion_matrix\n",
    "\n",
    "from sklearn.model_selection import GridSearchCV\n",
    "\n",
    "\n",
    "import pandas as pd\n",
    "import numpy as np\n",
    "import warnings\n",
    "warnings.filterwarnings('ignore')"
   ]
  },
  {
   "cell_type": "markdown",
   "metadata": {},
   "source": [
    "## Loading the dataset:"
   ]
  },
  {
   "cell_type": "code",
   "execution_count": 3,
   "metadata": {
    "scrolled": true
   },
   "outputs": [
    {
     "name": "stdout",
     "output_type": "stream",
     "text": [
      "(2422, 6)\n"
     ]
    }
   ],
   "source": [
    "data = pd.read_csv('f_300_cleaned_org.csv')\n",
    "data.fillna(\"\",inplace = True)\n",
    "\n",
    "data.replace({'flair': {\"AskIndia\": 0, \"Non-Political\": 1, \"Scheduled\": 2, \"Photography\": 3,\"Science/Technology\": 4,\n",
    "            \"Politics\": 5,\"Business/Finance\": 6, \"Policy/Economy\": 7, \"Sports\": 8, \"Food\": 9 }}, inplace=True)\n",
    "\n",
    "Y = data.flair\n",
    "V = data.combined_features\n",
    "X = data.title\n",
    "\n",
    "print(data.shape)"
   ]
  },
  {
   "cell_type": "markdown",
   "metadata": {},
   "source": [
    "<b>\n",
    "Defining the various FLairs:\n",
    "</b>"
   ]
  },
  {
   "cell_type": "code",
   "execution_count": 4,
   "metadata": {},
   "outputs": [],
   "source": [
    "flairs = [\"AskIndia\", \"Non-Political\", \"Scheduled\", \"Photography\", \"Science/Technology\",\n",
    "            \"Politics\", \"Business/Finance\", \"Policy/Economy\", \"Sports\", \"Food\"]"
   ]
  },
  {
   "cell_type": "markdown",
   "metadata": {},
   "source": [
    "# Defining Blocks of Various Models:\n",
    "<br>\n",
    "<b>\n",
    "    Each Code-Block contains pipelines which first converts the data into a count matrix followed by its tranformation into a normalized tf or tf-idf representation, this helps in document classification.\n",
    "The data is then passes to the various models.\n",
    "    <br>\n",
    "    Then the models are fit with the training data and their accuracies are also calculted.\n",
    "    </b>"
   ]
  },
  {
   "cell_type": "markdown",
   "metadata": {},
   "source": [
    "## Naive Bayes:"
   ]
  },
  {
   "cell_type": "code",
   "execution_count": null,
   "metadata": {},
   "outputs": [],
   "source": [
    "def nb_classifier(X_train, X_test, y_train, y_test):\n",
    "    nb = Pipeline([('vect', CountVectorizer()),('tfidf', TfidfTransformer()), ('clf', MultinomialNB()),])\n",
    "    nb.fit(X_train, y_train)\n",
    "    y_pred = nb.predict(X_test)\n",
    "    print('accuracy %s' % accuracy_score(y_pred, y_test))\n",
    "    print(classification_report(y_test, y_pred,target_names=flairs))"
   ]
  },
  {
   "cell_type": "markdown",
   "metadata": {},
   "source": [
    "## Linear SVM:"
   ]
  },
  {
   "cell_type": "code",
   "execution_count": null,
   "metadata": {},
   "outputs": [],
   "source": [
    "def linear_svm(X_train, X_test, y_train, y_test):\n",
    "    sgd = Pipeline([('vect', CountVectorizer()), ('tfidf', TfidfTransformer()),\n",
    "        ('clf', SGDClassifier(loss='hinge', penalty='l2',alpha=1e-3, random_state=42, max_iter=5, tol=None)),])\n",
    "    sgd.fit(X_train, y_train)\n",
    "    y_pred = sgd.predict(X_test)\n",
    "    print('accuracy %s' % accuracy_score(y_pred, y_test))\n",
    "    print(classification_report(y_test, y_pred,target_names=flairs))"
   ]
  },
  {
   "cell_type": "markdown",
   "metadata": {},
   "source": [
    "## Logestic Regression:"
   ]
  },
  {
   "cell_type": "code",
   "execution_count": null,
   "metadata": {},
   "outputs": [],
   "source": [
    "def logisticreg(X_train, X_test, y_train, y_test):\n",
    "    logreg = Pipeline([('vect', CountVectorizer()), ('tfidf', TfidfTransformer()),\n",
    "                         ('clf', LogisticRegression(n_jobs=1, C=1e5)),])\n",
    "    logreg.fit(X_train, y_train)\n",
    "    y_pred = logreg.predict(X_test)\n",
    "    print('accuracy %s' % accuracy_score(y_pred, y_test))\n",
    "    print(classification_report(y_test, y_pred,target_names=flairs))"
   ]
  },
  {
   "cell_type": "markdown",
   "metadata": {},
   "source": [
    "## Randomforest:"
   ]
  },
  {
   "cell_type": "code",
   "execution_count": null,
   "metadata": {},
   "outputs": [],
   "source": [
    "def randomforest(X_train, X_test, y_train, y_test):\n",
    "    ranfor = Pipeline([('vect', CountVectorizer()), ('tfidf', TfidfTransformer()),\n",
    "                        ('clf', RandomForestClassifier(n_estimators = 1000, random_state = 42)),])\n",
    "    ranfor.fit(X_train, y_train)\n",
    "    y_pred = ranfor.predict(X_test)\n",
    "    print('accuracy %s' % accuracy_score(y_pred, y_test))\n",
    "    print(classification_report(y_test, y_pred,target_names=flairs))"
   ]
  },
  {
   "cell_type": "markdown",
   "metadata": {},
   "source": [
    "## Multi-layer Perceptron classifier:"
   ]
  },
  {
   "cell_type": "code",
   "execution_count": null,
   "metadata": {},
   "outputs": [],
   "source": [
    "def mlpclassifier(X_train, X_test, y_train, y_test):  \n",
    "    mlp = Pipeline([('vect', CountVectorizer()), ('tfidf', TfidfTransformer()),\n",
    "                    ('clf', MLPClassifier(hidden_layer_sizes=(30,30,30))),])\n",
    "    mlp.fit(X_train, y_train)\n",
    "    y_pred = mlp.predict(X_test)\n",
    "    print('accuracy %s' % accuracy_score(y_pred, y_test))\n",
    "    print(classification_report(y_test, y_pred,target_names=flairs))"
   ]
  },
  {
   "cell_type": "markdown",
   "metadata": {},
   "source": [
    "## XBG Classifier:"
   ]
  },
  {
   "cell_type": "code",
   "execution_count": null,
   "metadata": {},
   "outputs": [],
   "source": [
    "def xgbclassifier(X_train, X_test, y_train, y_test):  \n",
    "    xgb_clf = Pipeline([('vect', CountVectorizer()),('tfidf', TfidfTransformer()),('clf',\n",
    "       XGBClassifier(random_state=42, seed=2, colsample_bytree=0.6, subsample=0.7,objective='multi:softmax')),])\n",
    "    xgb_clf.fit(X_train, y_train)\n",
    "    y_pred = xgb_clf.predict(X_test)\n",
    "    print('accuracy %s' % accuracy_score(y_pred, y_test))\n",
    "    print(classification_report(y_test, y_pred,target_names=flairs))"
   ]
  },
  {
   "cell_type": "code",
   "execution_count": null,
   "metadata": {},
   "outputs": [],
   "source": [
    "def train_test(X,y):\n",
    " \n",
    "    X_train, X_test, y_train, y_test = train_test_split(X, y, test_size=0.2, random_state = 42)\n",
    "   \n",
    "    print(\"Results of Naive Bayes Classifier\")\n",
    "    nb_classifier(X_train, X_test, y_train, y_test)\n",
    "    print(\"Results of Linear Support Vector Machine\")\n",
    "    linear_svm(X_train, X_test, y_train, y_test)\n",
    "    print(\"Results of Logistic Regression\")\n",
    "    logisticreg(X_train, X_test, y_train, y_test)\n",
    "    print(\"Results of Random Forest\")\n",
    "    randomforest(X_train, X_test, y_train, y_test)\n",
    "    print(\"Results of MLP Classifier\")\n",
    "    mlpclassifier(X_train, X_test, y_train, y_test)\n",
    "    print(\"Results of XGB Classifier\")\n",
    "    xgbclassifier(X_train, X_test, y_train, y_test)"
   ]
  },
  {
   "cell_type": "code",
   "execution_count": null,
   "metadata": {},
   "outputs": [],
   "source": [
    "print(\"Flair Detection using Title as Feature ------------------------------\")\n",
    "train_test(X,Y)\n",
    "print(\"Flair Detection using Combined Features------------------------------\")\n",
    "train_test(V,Y)"
   ]
  },
  {
   "cell_type": "markdown",
   "metadata": {},
   "source": [
    "# Validation of Each Model:"
   ]
  },
  {
   "cell_type": "code",
   "execution_count": 9,
   "metadata": {},
   "outputs": [],
   "source": [
    "from sklearn.model_selection import cross_val_score, cross_val_predict\n",
    "from sklearn.metrics import mean_squared_error,r2_score\n",
    "from sklearn.model_selection import KFold\n",
    "from sklearn import metrics\n",
    "import numpy as np"
   ]
  },
  {
   "cell_type": "markdown",
   "metadata": {},
   "source": [
    "## Defining the piplines for each Model:"
   ]
  },
  {
   "cell_type": "code",
   "execution_count": 47,
   "metadata": {},
   "outputs": [],
   "source": [
    "logreg = Pipeline([('vect', CountVectorizer()),('tfidf', TfidfTransformer()),\n",
    "              ('clf', LogisticRegression(n_jobs=1, C=1e5)),])\n",
    "\n",
    "sgd = Pipeline([('vect', CountVectorizer()),('tfidf', TfidfTransformer()),('clf', \n",
    "              SGDClassifier(loss='hinge', penalty='l2',alpha=1e-3, random_state=42, max_iter=5, tol=None)),])\n",
    "\n",
    "ranfor = Pipeline([('vect', CountVectorizer()), ('tfidf', TfidfTransformer()),\n",
    "              ('clf', RandomForestClassifier(n_estimators = 1000, random_state = 42)),])\n",
    "\n",
    "nb = Pipeline([('vect', CountVectorizer()),('tfidf', TfidfTransformer()), ('clf', MultinomialNB()),])\n",
    "\n",
    "xgb_clf = Pipeline([('vect', CountVectorizer()),('tfidf', TfidfTransformer()),('clf',\n",
    "   XGBClassifier(random_state=42, seed=2, colsample_bytree=0.6, subsample=0.7,objective='multi:softmax')),])\n",
    "  \n",
    "mlp = Pipeline([('vect', CountVectorizer()), ('tfidf', TfidfTransformer()),\n",
    "                ('clf', MLPClassifier(hidden_layer_sizes=(30,30,30))),])"
   ]
  },
  {
   "cell_type": "markdown",
   "metadata": {},
   "source": [
    "## Performing K fold Cross Validation:"
   ]
  },
  {
   "cell_type": "code",
   "execution_count": 13,
   "metadata": {},
   "outputs": [
    {
     "name": "stdout",
     "output_type": "stream",
     "text": [
      "--- Model :  1   ---------------------------------------------------------------\n",
      "[0.17294666 0.28618624 0.15386929 0.54071984 0.4335206  0.20358286\n",
      " 0.43790019 0.42279468 0.45097558 0.38410931]\n",
      "Mean 5-Fold R Squared: 0.34866052476698545\n",
      "--- Model :  2   ---------------------------------------------------------------\n",
      "[0.47879462 0.35190563 0.24398069 0.54935675 0.37255421 0.17170594\n",
      " 0.29261592 0.37448455 0.36441994 0.50354251]\n",
      "Mean 5-Fold R Squared: 0.3703360764576177\n",
      "--- Model :  3   ---------------------------------------------------------------\n",
      "[-0.53025089 -0.18699343 -0.55480335 -0.04506559 -0.06691188 -0.18197614\n",
      " -0.18231333 -0.14182989 -0.20423046 -0.17510121]\n",
      "Mean 5-Fold R Squared: -0.22694761627130317\n",
      "--- Model :  4   ---------------------------------------------------------------\n",
      "[ 0.08852251  0.34533369  0.32951015  0.41523068  0.19829193 -0.03321715\n",
      "  0.09072089  0.18728283  0.1273984   0.25404858]\n",
      "Mean 5-Fold R Squared: 0.20031225166809663\n",
      "--- Model :  5   ---------------------------------------------------------------\n",
      "[0.00460389 0.26293168 0.11975933 0.44266556 0.294314   0.06241362\n",
      " 0.09522972 0.02725554 0.12840486 0.19787449]\n",
      "Mean 5-Fold R Squared: 0.16354527065382\n",
      "--- Model :  6   ---------------------------------------------------------------\n",
      "[0.02330865 0.18154073 0.01590213 0.47060849 0.31463613 0.06190764\n",
      " 0.42537568 0.15859869 0.27836754 0.09817814]\n",
      "Mean 5-Fold R Squared: 0.2028423823414382\n"
     ]
    }
   ],
   "source": [
    "models = (logreg, sgd, nb, ranfor, xgb_clf, mlp)\n",
    "\n",
    "count = 0 \n",
    "for mod in models:\n",
    "    count = count + 1\n",
    "    print(\"--- Model : \",count,\"  ---------------------------------------------------------------\")\n",
    "    cv_r2_scores_rf = cross_val_score(mod, V, Y, cv=10,scoring='r2')\n",
    "    print(cv_r2_scores_rf)\n",
    "    print(\"Mean 5-Fold R Squared: {}\".format(np.mean(cv_r2_scores_rf)))"
   ]
  },
  {
   "cell_type": "markdown",
   "metadata": {},
   "source": [
    "### Parameter Tuning "
   ]
  },
  {
   "cell_type": "code",
   "execution_count": 46,
   "metadata": {},
   "outputs": [
    {
     "name": "stdout",
     "output_type": "stream",
     "text": [
      "Fitting 5 folds for each of 8 candidates, totalling 40 fits\n"
     ]
    },
    {
     "name": "stderr",
     "output_type": "stream",
     "text": [
      "[Parallel(n_jobs=-1)]: Using backend LokyBackend with 12 concurrent workers.\n"
     ]
    },
    {
     "name": "stdout",
     "output_type": "stream",
     "text": [
      "accuracy 0.0\n",
      "                    precision    recall  f1-score   support\n",
      "\n",
      "          AskIndia       0.40      0.37      0.39        43\n",
      "     Non-Political       0.25      0.17      0.20        42\n",
      "         Scheduled       0.98      0.98      0.98        51\n",
      "       Photography       0.59      0.88      0.71        51\n",
      "Science/Technology       0.58      0.37      0.45        59\n",
      "          Politics       0.59      0.56      0.57        61\n",
      "  Business/Finance       0.49      0.52      0.50        50\n",
      "    Policy/Economy       0.34      0.37      0.36        43\n",
      "            Sports       0.59      0.81      0.68        36\n",
      "              Food       0.60      0.55      0.57        49\n",
      "\n",
      "          accuracy                           0.56       485\n",
      "         macro avg       0.54      0.56      0.54       485\n",
      "      weighted avg       0.55      0.56      0.55       485\n",
      "\n"
     ]
    },
    {
     "name": "stderr",
     "output_type": "stream",
     "text": [
      "[Parallel(n_jobs=-1)]: Done  40 out of  40 | elapsed:    2.2s finished\n"
     ]
    }
   ],
   "source": [
    "# Create first pipeline for base without reducing features.\n",
    "X_train, X_test, Y_train, Y_test = train_test_split(X, Y, test_size=0.2, random_state = 42)\n",
    "\n",
    "# pipe = Pipeline([('classifier' , RandomForestClassifier())])\n",
    "# pipe = Pipeline([('classifier', RandomForestClassifier())])\n",
    "#pipe = Pipeline([('vect', CountVectorizer()), ('tfidf', TfidfTransformer()),\n",
    "#                       ('classifier', RandomForestClassifier()),])\n",
    "\n",
    "# Create param grid.\n",
    "\n",
    "pipe = Pipeline([('vect', CountVectorizer()),('tfidf', TfidfTransformer()),\n",
    "    ('classifier', SGDClassifier(loss='hinge')),])\n",
    "\n",
    "\n",
    "\n",
    "param_grid = [\n",
    "    {'classifier' : [LogisticRegression()],\n",
    "     'classifier__penalty' : ['l1', 'l2'],\n",
    "    'classifier__C' : np.logspace(-4, 4, 20),\n",
    "    'classifier__solver' : ['liblinear']},\n",
    "    {'classifier' : [RandomForestClassifier()],\n",
    "    'classifier__n_estimators' : list(range(10,101,10)),\n",
    "    'classifier__max_features' : list(range(6,32,5))}\n",
    "]\n",
    "\n",
    "grid = {\n",
    "    'classifier__alpha': [1e-7, 1e-6, 1e-5, 1e-4, 1e-3, 1e-2, 1e-1, 1e0],\n",
    "    'classifier__penalty': ['l2'],\n",
    "}\n",
    "\n",
    "\n",
    "# Create grid search object\n",
    "\n",
    "clf = GridSearchCV(pipe, param_grid = grid, cv = 5, verbose=True, n_jobs=-1)\n",
    "\n",
    "# Fit on data\n",
    "\n",
    "best_clf = clf.fit(X_train, Y_train)\n",
    "\n",
    "y_pred = best_clf.predict(X_test)\n",
    "print('accuracy %s' % accuracy_score(X_test, Y_test))\n",
    "print(classification_report(Y_test, y_pred,target_names=flairs))"
   ]
  }
 ],
 "metadata": {
  "kernelspec": {
   "display_name": "Python 3",
   "language": "python",
   "name": "python3"
  },
  "language_info": {
   "codemirror_mode": {
    "name": "ipython",
    "version": 3
   },
   "file_extension": ".py",
   "mimetype": "text/x-python",
   "name": "python",
   "nbconvert_exporter": "python",
   "pygments_lexer": "ipython3",
   "version": "3.6.9"
  }
 },
 "nbformat": 4,
 "nbformat_minor": 4
}
