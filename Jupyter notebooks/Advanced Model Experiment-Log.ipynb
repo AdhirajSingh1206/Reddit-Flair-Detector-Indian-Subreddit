{
 "cells": [
  {
   "cell_type": "markdown",
   "metadata": {},
   "source": [
    "## Loading the Data set:\n"
   ]
  },
  {
   "cell_type": "code",
   "execution_count": 25,
   "metadata": {},
   "outputs": [],
   "source": [
    "import pandas as pd\n",
    "import csv\n",
    "import tensorflow as tf\n",
    "import numpy as np\n",
    "from tensorflow.keras.preprocessing.text import Tokenizer\n",
    "from tensorflow.keras.preprocessing.sequence import pad_sequences\n",
    "from sklearn.model_selection import train_test_split\n",
    "\n",
    "import pickle\n",
    "import matplotlib.pyplot as plt"
   ]
  },
  {
   "cell_type": "markdown",
   "metadata": {},
   "source": [
    "<b>Defining the different flairs that will be available.</b>"
   ]
  },
  {
   "cell_type": "code",
   "execution_count": 2,
   "metadata": {},
   "outputs": [],
   "source": [
    "flairs = [\"AskIndia\", \"Non-Political\",\n",
    "          \"Scheduled\", \"Photography\", \"Science/Technology\",\n",
    "          \"Politics\", \"Business/Finance\", \"Policy/Economy\",\n",
    "          \"Sports\", \"Food\"]"
   ]
  },
  {
   "cell_type": "code",
   "execution_count": 3,
   "metadata": {},
   "outputs": [
    {
     "name": "stdout",
     "output_type": "stream",
     "text": [
      "0    differ stage hair loss perfect order mumbai lo...\n",
      "1    women gather dust storm rajasthan. nan. steve ...\n",
      "2    zoom took shot night supermoon stack detail lu...\n",
      "3    wild gaur nagarahol nation park. nan. wild pro...\n",
      "4    puffi superdog zenfon. nan. nice have tree hou...\n",
      "Name: combined_features, dtype: object\n",
      "(2422,)\n"
     ]
    }
   ],
   "source": [
    "data = pd.read_csv('f_300_clean.csv')\n",
    "data.fillna(\"\",inplace = True)\n",
    "\n",
    "data.replace({'flair': {\"AskIndia\": 0, \"Non-Political\": 1,\n",
    "                      \"Scheduled\": 2, \"Photography\": 3,\n",
    "                     \"Science/Technology\": 4, \"Politics\": 5,\n",
    "                     \"Business/Finance\": 6, \"Policy/Economy\": 7,\n",
    "                     \"Sports\": 8, \"Food\": 9 }}, inplace=True)\n",
    "\n",
    "Y = data.flair\n",
    "X = data.combined_features\n",
    "\n",
    "print(X.head())\n",
    "print(X.shape)"
   ]
  },
  {
   "cell_type": "markdown",
   "metadata": {},
   "source": [
    "<b>\n",
    "Splitting the data into Training and Testing for valuation of accuracy and validation</b>"
   ]
  },
  {
   "cell_type": "code",
   "execution_count": 4,
   "metadata": {},
   "outputs": [
    {
     "name": "stdout",
     "output_type": "stream",
     "text": [
      "1937\n",
      "485\n"
     ]
    }
   ],
   "source": [
    "X_train, X_test, Y_train, Y_test = train_test_split(X, Y, test_size=0.2, random_state = 42)\n",
    "print(len(X_train))\n",
    "print(len(X_test))"
   ]
  },
  {
   "cell_type": "markdown",
   "metadata": {},
   "source": [
    "<b>\n",
    "    Initializing some essential variables.\n",
    "    </b>\n",
    " "
   ]
  },
  {
   "cell_type": "code",
   "execution_count": 5,
   "metadata": {},
   "outputs": [],
   "source": [
    "vocab_size = 5000\n",
    "embedding_dim = 64\n",
    "max_length = 200\n",
    "trunc_type = 'post'\n",
    "padding_type = 'post'\n",
    "oov_tok = '<OOV>'\n",
    "training_portion = .8"
   ]
  },
  {
   "cell_type": "markdown",
   "metadata": {},
   "source": [
    "## Corpus Tokenization:\n",
    "<br>\n",
    "<b>\n",
    "Now i Vectorized the training corpus, by turning each text into either a sequence of integers. The vocabulary size has been set to 5000 words.\n",
    "    </b>"
   ]
  },
  {
   "cell_type": "code",
   "execution_count": 6,
   "metadata": {},
   "outputs": [
    {
     "data": {
      "text/plain": [
       "{'like': 2,\n",
       " 'peopl': 3,\n",
       " 'hai': 4,\n",
       " 'india': 5,\n",
       " 'http': 6,\n",
       " 'time': 7,\n",
       " 'good': 8,\n",
       " 'delet': 9,\n",
       " 'com': 10}"
      ]
     },
     "execution_count": 6,
     "metadata": {},
     "output_type": "execute_result"
    }
   ],
   "source": [
    "tokenizer = Tokenizer(num_words = vocab_size, oov_token=oov_tok)\n",
    "tokenizer.fit_on_texts(X_train)\n",
    "word_index = tokenizer.word_index\n",
    "dict(list(word_index.items())[1:10])"
   ]
  },
  {
   "cell_type": "code",
   "execution_count": 7,
   "metadata": {},
   "outputs": [
    {
     "name": "stdout",
     "output_type": "stream",
     "text": [
      "[841, 2559, 5, 1194, 1, 35, 212, 399, 560, 11, 8, 16, 2559, 57, 167, 224, 262, 180, 997, 2, 937, 5, 1, 32, 426, 167, 47, 163, 246, 1161, 2299, 316, 2515, 32, 426, 288, 1, 2299, 449, 248, 153, 44, 167, 246, 1161, 192, 992, 546, 167, 546, 246, 568, 755, 248, 1891, 449, 377, 771, 8, 187, 1243, 356, 31, 248, 1, 546, 73, 449, 248, 2299, 316, 248, 938, 167, 546, 246, 260, 2466, 874, 2380, 2299, 1589, 679, 1161, 336, 609, 3016, 3, 607, 1405, 449, 968, 59, 1161, 1027, 336, 4578, 249, 2787, 442, 607, 1405, 167, 546, 1161, 315, 422, 638, 356, 16, 357, 63, 1177, 937, 1161, 597, 1205, 47, 1921, 80, 44, 1891, 248, 153, 44, 21, 356, 1, 449, 248, 1306, 679, 204, 1384, 696, 250, 2560, 174, 163, 2741, 243, 1, 376, 1421, 878, 11, 103, 153, 858, 153, 2637, 655, 400, 153, 2637, 37, 1741, 449, 114, 1, 29, 202, 37, 188, 254, 532, 1766, 266, 312, 202, 1661, 2957, 44, 234, 4228, 714, 644, 1831, 581, 44, 1, 130, 29, 841, 2186, 1054, 1007, 383, 234, 414, 532, 702, 757, 298, 9, 20, 1, 1, 1663, 2231, 747, 850, 252, 1178, 232, 2340, 1846, 1951, 841, 1028, 11, 18, 1, 3968, 2598, 37, 49, 598, 1, 1, 569, 2381, 8, 655, 11, 924, 51, 103, 153, 429, 1, 288, 109, 37, 8, 44, 549, 232, 1, 44, 331, 187, 143, 3151, 771, 282, 546, 246, 1449, 179, 1, 179, 1274, 1260, 142, 179, 79, 413, 103, 566, 875, 304, 158, 122, 233, 46, 1129, 1285, 37, 95, 19, 325, 337, 2381, 122, 496, 2, 449, 841, 2559, 338, 32, 8, 32, 104, 6, 1055, 719, 1140, 520, 32, 841, 874, 3648, 5, 1, 3969, 3, 560, 5, 19, 3, 905, 5, 19, 78, 182, 278, 3, 2, 3, 3648, 246, 4579, 4411, 286, 246, 4580, 610, 2, 1081, 44, 4231, 501, 846, 182, 182, 327, 3648, 110, 440, 235, 2602, 268, 1109, 65, 396, 464, 15, 204, 1, 246, 212, 1, 6, 26, 1, 2270, 4979, 1, 2270, 5, 1565, 841, 64, 134, 874, 48, 19, 2561, 12, 48, 19, 2561, 12, 126, 1, 126, 1150, 19, 1664, 329, 234, 14, 328, 249, 44, 87, 103, 2467, 1685, 16, 337, 27, 404, 4980, 41, 49, 16, 236, 2468, 14, 1323, 3, 249, 44, 5, 3, 2638, 2382, 192, 2516, 857, 235, 569, 400, 2300, 5, 200, 1, 1, 1079, 5, 4096, 2187, 1079, 129, 205, 278, 24, 1, 192, 1, 62, 256, 49, 233, 1141, 2559, 165, 5, 1075, 76, 1, 968, 246, 4412, 1532, 1803, 588, 165, 5, 151, 3, 109, 700, 192, 541, 1, 65, 756, 1384, 235, 2469, 5, 1532, 679, 2035, 805, 46, 657, 2036, 1, 1, 3970, 720, 940, 21, 441, 2300, 389, 1151, 495, 163, 937, 5, 940, 4413, 133, 1, 3, 1, 21, 1, 1, 13, 5, 1385, 183, 2230, 269, 129, 79, 2639, 2559, 398, 1386, 113, 942, 1014, 3017, 610, 1065, 1, 747, 1803, 1543, 1, 32, 49, 700, 241, 3, 98, 1983, 13, 20, 99, 262, 20, 2, 76, 913, 5, 104, 14, 1162, 247, 1110, 247, 2423, 700, 1141, 3, 449, 12, 714, 233, 1, 78, 268, 39, 5, 4232, 1, 32, 1786, 262, 47, 998, 1, 1566, 14, 114, 1, 1261, 1544, 484, 645, 1434, 1, 400, 2140, 1, 1111, 47, 41, 1, 465, 4581, 2271, 1770, 81, 1161, 96, 835, 914, 338, 835, 841, 449, 851, 71, 213, 1869, 4581, 2953, 233, 1332, 1984, 98, 1, 1, 1, 1075, 3233, 122, 655, 2559, 200, 1, 914, 338, 21, 3018, 174, 588, 2301, 1, 2602, 1787, 268, 2341, 2958, 1, 2075, 400, 47, 4097, 79, 2035, 3456, 1056, 323, 37, 172, 2141, 93, 1985, 1450, 78, 152, 2111, 1, 1985, 841, 17, 17, 6, 148, 1, 399, 533, 124, 470, 1590, 3548, 832, 288, 5, 700, 222, 13, 1, 149, 543, 5, 747, 360, 95, 1306, 2, 100, 1567, 879, 5, 1130, 3850, 3234, 6, 267, 10, 1, 1, 388, 160, 222, 5, 4579, 1, 1, 114, 1467, 111, 1, 368, 1642, 1174, 1, 2603, 686, 236, 18, 12, 32, 1747, 20, 2, 1176, 24, 1, 560, 1, 714, 960, 44, 1542, 47, 32, 749, 1039, 1, 50, 1, 1951, 50, 16, 149, 1, 700, 11, 109, 269, 427, 336, 11, 841, 747, 5, 1, 1, 316, 747, 684, 1, 186, 701, 1093, 1, 95, 1306, 419, 465, 874, 2470, 1622, 434, 29, 164, 2517, 20, 2, 144, 1, 1, 3457, 3549, 2232, 4233, 1, 1709, 1949, 5, 1272, 389, 841, 2559, 47, 1804, 76, 19, 484, 3971, 366, 20, 1, 3458, 575, 128, 550, 336, 110, 2009, 1110, 67, 236, 193, 191, 322, 841, 3, 33, 684, 2954, 423, 2379, 3, 2379, 1892, 33, 128, 2379, 841, 322, 2009, 108, 144, 108, 189, 399, 1, 1726, 1, 645, 3849, 305, 355, 99, 32, 340, 2383, 1369, 221, 2424, 537, 32, 183, 149, 841, 2559, 32, 271, 6, 1055, 719, 1140, 520, 32, 841, 874, 1, 1, 2835, 1, 164, 1685, 1179, 3310, 164, 32, 95, 66, 316, 2140, 2299, 153, 1, 144, 1089, 153, 1242, 2, 1344, 611, 44, 310, 1057, 172, 728, 62, 18, 158, 2342, 28, 399, 541, 283, 496, 54, 1029, 204, 1707, 1, 2692, 1306, 1949, 1, 2188, 465, 1194, 157, 449, 2602, 629, 391, 65, 27, 439, 427, 2140, 766, 833, 27, 495, 163, 2189, 1, 749, 1, 1, 1, 1306, 1, 3019, 1244, 1624, 4745, 2302, 1, 1244, 1624, 1, 4745, 1, 2302, 1, 1163, 1, 3, 1323, 1195, 410, 178, 1370, 1892, 761, 60, 4234, 859, 471, 110, 709, 99, 29, 334, 221, 16, 98, 891, 1, 95, 221, 8, 1307, 322, 219, 17, 22, 2, 3649, 1566, 979, 496, 501, 262, 801, 2738, 371, 316, 841, 2559, 471, 316, 248, 691, 581, 1829, 1421, 11, 3, 58, 1584, 207, 581, 841, 655, 3851, 655, 20, 3738, 47, 463, 461, 1067, 419, 841, 47, 1804, 165, 2233, 48, 867, 147, 58, 1, 1, 520, 1323, 1, 48, 2379, 1892, 713, 58, 29, 2893, 841, 3, 2517, 841, 217, 79, 382, 1195, 410, 328, 34, 2518, 3380, 841, 189, 17, 34, 1850, 1, 207, 1, 153, 2234, 34, 37, 5, 248, 495, 163, 346, 1, 2189, 1, 805, 1748, 1019, 1380, 1, 1, 1, 2604, 865, 348, 351, 875, 322, 1, 147, 67, 103, 351, 256, 1, 83, 65, 336, 610, 143, 147, 182, 1, 5, 21, 729, 582, 1, 366, 74, 427, 1, 3381, 50, 1766, 174, 2142, 7, 3, 1, 61, 868, 1, 12, 336, 174, 234, 104, 37, 315, 3382, 182, 1, 1275, 45, 23, 305, 841, 1951, 4582, 841, 1, 2300, 5, 1665, 128, 18, 937, 2143, 455, 1666, 32, 217, 560, 1769, 1207, 17, 1568, 5, 37, 1951, 841, 1951, 2035, 224, 1079, 389, 513, 5, 17, 95, 1604, 3, 804, 2035, 970, 11, 54, 63, 17, 20, 144, 307, 1, 3971, 1, 2693, 325, 5, 541, 283, 979, 3, 619, 489, 1804, 5, 2562, 19, 138, 224, 110, 1067, 79, 619, 1, 619, 1174, 205, 943, 961, 1, 192, 1, 1870, 1, 433, 2075, 1, 5, 322, 509, 2605, 1, 4096, 961, 841, 2559, 180, 165, 33, 76, 5, 3, 5, 217, 47, 841, 2559, 47, 1, 5, 1533, 2692, 318, 75, 655, 2559, 5, 1368, 12, 700, 74, 1949, 3233, 207, 20, 1949, 6, 26, 1, 10, 1949, 5, 1, 1, 1952, 521, 1, 1, 3739, 1, 2, 65, 1949, 1, 75, 541, 1565, 1, 4746, 400, 1, 3739, 134, 1533, 1, 1, 1949, 2, 21, 1422, 87, 42, 153, 1951, 170, 4583, 1, 5, 5, 370, 1082, 3, 1406, 3383, 14, 937, 108, 696, 248, 3086, 317, 248, 3, 841, 2559, 76, 1075, 714, 1832, 108, 228, 1, 129, 2384, 1112, 186, 250, 165, 297, 714, 3, 228, 3740, 98, 167, 224, 2, 714, 96, 507, 1009, 714, 714, 1131, 149, 1709, 655, 153, 580, 163, 1, 2189, 1089, 153, 1089, 182, 103, 153, 3, 103, 153, 3017, 103, 153, 404, 103, 153, 182, 1805, 1, 103, 153, 605, 103, 153, 845, 103, 153, 2076, 266, 153, 2, 1344, 3, 1057, 8, 131, 103, 153, 103, 153, 3741, 1057, 64, 8, 131, 3, 1225, 2, 92, 1, 1225, 428, 31, 182, 1094, 1851, 164, 605, 132, 458, 8, 131, 925, 37, 4747, 874, 655, 37, 282, 1803, 2425, 3852, 1869, 2010, 37, 282, 750, 667, 3384, 1419, 645, 657, 261, 1501, 45, 59, 30, 32, 20, 2, 221, 110, 937, 1919, 108, 101, 54, 8, 1, 1949, 2, 32, 25, 763, 20, 463, 2959, 1226, 1, 1, 1259, 455, 1949, 364, 32, 1517, 913, 2385, 4583, 1, 3648, 11, 4975, 216, 7, 17, 1270, 50, 1, 1259, 1259, 2233, 2303, 266, 5, 747, 465, 541, 501, 747, 541, 501, 1306, 892, 1565, 1, 3972, 747, 3311, 1, 78, 747, 1565, 2189, 212, 242, 75, 11, 841, 3385, 875, 329, 541, 3385, 149, 1480, 1306, 78, 5, 1, 21, 419, 841, 2788, 2304, 76, 200, 2559, 76, 541, 1, 1423, 4414, 1331, 4098, 4575, 517, 1949, 60, 444, 2837, 2, 279, 532, 23, 62, 937, 1, 94, 2, 905, 1, 52, 21, 233, 5, 481, 2, 1286, 937, 449, 4235, 248, 4235, 144, 449, 11, 15, 24, 187, 1, 841, 93, 1, 280, 937, 415, 937, 696, 214, 893, 32, 8, 3742, 217, 696, 937, 1090, 1661, 2, 112, 1569, 99, 1565, 129, 841, 2, 841, 2559, 65, 262, 297, 550, 1, 200, 674, 834, 799, 747, 3851, 1565, 2189, 61, 1, 3, 3235, 1, 49, 14, 1951, 2471, 747, 841, 32, 59, 1951, 841, 944, 355, 305, 47, 1, 1, 1259, 481, 841, 2299, 139, 1, 3550, 1259, 305, 32, 481, 1226, 14, 5, 136, 6, 148, 1, 17, 97, 88, 971, 841, 2559, 75, 1565, 846, 971, 841, 88, 4981, 1306, 806, 1038, 29, 105, 4096, 1371, 93, 322, 243, 98, 219, 1259, 459, 459, 495, 163, 132, 275, 16, 413, 44, 1, 1, 1420, 28, 1081, 154, 2341, 170, 1, 1259, 550, 1727, 1, 1, 841, 1727, 192, 2559, 665, 1, 1, 1, 1, 841, 3386, 1, 665, 14, 2011, 140, 62, 389, 2563, 356, 1, 105, 31, 784, 1]\n"
     ]
    }
   ],
   "source": [
    "X_train = tokenizer.texts_to_sequences(X_train)\n",
    "print(X_train[10])"
   ]
  },
  {
   "cell_type": "code",
   "execution_count": 26,
   "metadata": {},
   "outputs": [],
   "source": [
    "with open('tokenizer.pickle', 'wb') as handle:\n",
    "    pickle.dump(tokenizer, handle, protocol=pickle.HIGHEST_PROTOCOL)"
   ]
  },
  {
   "cell_type": "markdown",
   "metadata": {},
   "source": [
    "<b>\n",
    "Adding padding of 0 to each entry in the training data to make the maximum size uniform.\n",
    "</b>"
   ]
  },
  {
   "cell_type": "code",
   "execution_count": 8,
   "metadata": {},
   "outputs": [
    {
     "name": "stdout",
     "output_type": "stream",
     "text": [
      "[3377    1  188    1    1  840 1705 1622  512   35 1205 1766    1  248\n",
      " 2069  480  126 2784   12  278    1 3645  574  548   12 1064  355   87\n",
      "  165 3377  480 4092   12 1220  321  188  333 1600 1380    3  105  254\n",
      " 1706 3960 2267    1   14  201   13   37   73 1828 1268   62  226   76\n",
      " 1075   64  321 1600   29   88  126  420  331  480  359    1  699    1\n",
      "  126 1828  126  420 2462 2033    8   18    1    0    0    0    0    0\n",
      "    0    0    0    0    0    0    0    0    0    0    0    0    0    0\n",
      "    0    0    0    0    0    0    0    0    0    0    0    0    0    0\n",
      "    0    0    0    0    0    0    0    0    0    0    0    0    0    0\n",
      "    0    0    0    0    0    0    0    0    0    0    0    0    0    0\n",
      "    0    0    0    0    0    0    0    0    0    0    0    0    0    0\n",
      "    0    0    0    0    0    0    0    0    0    0    0    0    0    0\n",
      "    0    0    0    0    0    0    0    0    0    0    0    0    0    0\n",
      "    0    0    0    0    0    0    0    0    0    0    0    0    0    0\n",
      "    0    0    0    0]\n"
     ]
    }
   ],
   "source": [
    "X_train = pad_sequences(X_train, maxlen=max_length, padding=padding_type, truncating=trunc_type)\n",
    "print(X_train[0])"
   ]
  },
  {
   "cell_type": "markdown",
   "metadata": {},
   "source": [
    "<b>Prepareing the Test data also</b>"
   ]
  },
  {
   "cell_type": "code",
   "execution_count": 9,
   "metadata": {},
   "outputs": [],
   "source": [
    "X_test = tokenizer.texts_to_sequences(X_test)\n",
    "X_test = pad_sequences(X_test, maxlen=max_length, padding=padding_type, truncating=trunc_type)"
   ]
  },
  {
   "cell_type": "code",
   "execution_count": 10,
   "metadata": {},
   "outputs": [
    {
     "name": "stdout",
     "output_type": "stream",
     "text": [
      "1606    9\n",
      "1517    9\n",
      "1848    5\n",
      "1260    8\n",
      "118     3\n",
      "Name: flair, dtype: int64\n",
      "613     0\n",
      "1266    8\n",
      "892     6\n",
      "296     4\n",
      "611     0\n",
      "Name: flair, dtype: int64\n"
     ]
    }
   ],
   "source": [
    "print(Y_train.head())\n",
    "print(Y_test.head())\n",
    "Y_train = np.asarray(Y_train)\n",
    "Y_test = np.asarray(Y_test)"
   ]
  },
  {
   "cell_type": "markdown",
   "metadata": {},
   "source": [
    "## Defining a function which plots:\n",
    "<b>\n",
    "<br>\n",
    "The Training and Validation Accuracy V/S number of Epoch\n",
    "<br>\n",
    "The Training and Validation Loss V/S number of Epoch\n",
    "</b>"
   ]
  },
  {
   "cell_type": "code",
   "execution_count": 11,
   "metadata": {},
   "outputs": [],
   "source": [
    "import matplotlib.pyplot as plt\n",
    "plt.style.use('ggplot')\n",
    "\n",
    "def plot_history(history):\n",
    "    acc = history.history['accuracy']\n",
    "    val_acc = history.history['val_accuracy']\n",
    "    loss = history.history['loss']\n",
    "    val_loss = history.history['val_loss']\n",
    "    x = range(1, len(acc) + 1)\n",
    "\n",
    "    plt.figure(figsize=(12, 5))\n",
    "    plt.subplot(1, 2, 1)\n",
    "    plt.plot(x, acc, 'b', label='Training acc')\n",
    "    plt.plot(x, val_acc, 'r', label='Validation acc')\n",
    "    plt.title('Training and validation accuracy')\n",
    "    plt.legend()\n",
    "    plt.subplot(1, 2, 2)\n",
    "    plt.plot(x, loss, 'b', label='Training loss')\n",
    "    plt.plot(x, val_loss, 'r', label='Validation loss')\n",
    "    plt.title('Training and validation loss')\n",
    "    plt.legend()"
   ]
  },
  {
   "cell_type": "markdown",
   "metadata": {},
   "source": [
    "## Define a Sequential Model:\n"
   ]
  },
  {
   "cell_type": "code",
   "execution_count": null,
   "metadata": {},
   "outputs": [],
   "source": [
    "input_dim = X_train.shape[1]  # Number of features\n",
    "\n",
    "model = tf.keras.Sequential([\n",
    "    tf.keras.layers.Dense(150,input_dim=input_dim, activation='relu'),\n",
    "    tf.keras.layers.Dense(10, activation='softmax')\n",
    "])\n",
    "model.compile(loss='sparse_categorical_crossentropy', optimizer='adam', metrics=['accuracy'])\n",
    "#model.summary()"
   ]
  },
  {
   "cell_type": "markdown",
   "metadata": {},
   "source": [
    "<b>\n",
    "Fitting the Model\n",
    "    </b>"
   ]
  },
  {
   "cell_type": "code",
   "execution_count": null,
   "metadata": {},
   "outputs": [],
   "source": [
    "num_epochs = 15\n",
    "history = model.fit(X_train, Y_train, epochs=num_epochs, validation_data=(X_test, Y_test), verbose=True)"
   ]
  },
  {
   "cell_type": "markdown",
   "metadata": {},
   "source": [
    "<b>Analysis and Validation</b>"
   ]
  },
  {
   "cell_type": "code",
   "execution_count": null,
   "metadata": {},
   "outputs": [],
   "source": [
    "plot_history(history)\n",
    "loss, accuracy = model.evaluate(X_train, Y_train, verbose=False)\n",
    "print(\"Training Accuracy: {:.4f}\".format(accuracy))\n",
    "loss, accuracy = model.evaluate(X_test, Y_test, verbose=False)\n",
    "print(\"Testing Accuracy:  {:.4f}\".format(accuracy))"
   ]
  },
  {
   "cell_type": "markdown",
   "metadata": {},
   "source": [
    "<b>Added Embedding and dropout layers to the Model:</b>"
   ]
  },
  {
   "cell_type": "code",
   "execution_count": 12,
   "metadata": {},
   "outputs": [
    {
     "name": "stdout",
     "output_type": "stream",
     "text": [
      "Model: \"sequential\"\n",
      "_________________________________________________________________\n",
      "Layer (type)                 Output Shape              Param #   \n",
      "=================================================================\n",
      "embedding (Embedding)        (None, 200, 64)           320000    \n",
      "_________________________________________________________________\n",
      "global_max_pooling1d (Global (None, 64)                0         \n",
      "_________________________________________________________________\n",
      "dense (Dense)                (None, 1000)              65000     \n",
      "_________________________________________________________________\n",
      "dropout (Dropout)            (None, 1000)              0         \n",
      "_________________________________________________________________\n",
      "dense_1 (Dense)              (None, 10)                10010     \n",
      "=================================================================\n",
      "Total params: 395,010\n",
      "Trainable params: 395,010\n",
      "Non-trainable params: 0\n",
      "_________________________________________________________________\n"
     ]
    }
   ],
   "source": [
    "input_dim = X_train.shape[1]  # Number of features\n",
    "\n",
    "model = tf.keras.Sequential([\n",
    "    tf.keras.layers.Embedding(vocab_size, embedding_dim, input_length=max_length),\n",
    "    tf.keras.layers.GlobalMaxPool1D(),\n",
    "    tf.keras.layers.Dense(1000, activation='relu'),\n",
    "    tf.keras.layers.Dropout(0.5),\n",
    "    tf.keras.layers.Dense(10, activation='softmax')\n",
    "])\n",
    "model.summary()\n",
    "model.compile(loss='sparse_categorical_crossentropy', optimizer='adam', metrics=['accuracy'])\n"
   ]
  },
  {
   "cell_type": "code",
   "execution_count": 13,
   "metadata": {},
   "outputs": [
    {
     "name": "stdout",
     "output_type": "stream",
     "text": [
      "Train on 1937 samples, validate on 485 samples\n",
      "Epoch 1/7\n",
      "1937/1937 [==============================] - 1s 417us/sample - loss: 2.3018 - accuracy: 0.1048 - val_loss: 2.2911 - val_accuracy: 0.1588\n",
      "Epoch 2/7\n",
      "1937/1937 [==============================] - 0s 167us/sample - loss: 2.2441 - accuracy: 0.1673 - val_loss: 2.1312 - val_accuracy: 0.2309\n",
      "Epoch 3/7\n",
      "1937/1937 [==============================] - 0s 166us/sample - loss: 1.9182 - accuracy: 0.3893 - val_loss: 1.7460 - val_accuracy: 0.3897\n",
      "Epoch 4/7\n",
      "1937/1937 [==============================] - 0s 167us/sample - loss: 1.4552 - accuracy: 0.5281 - val_loss: 1.4017 - val_accuracy: 0.5031\n",
      "Epoch 5/7\n",
      "1937/1937 [==============================] - 0s 166us/sample - loss: 1.0560 - accuracy: 0.6665 - val_loss: 1.2363 - val_accuracy: 0.5505\n",
      "Epoch 6/7\n",
      "1937/1937 [==============================] - 0s 165us/sample - loss: 0.8035 - accuracy: 0.7455 - val_loss: 1.1498 - val_accuracy: 0.6000\n",
      "Epoch 7/7\n",
      "1937/1937 [==============================] - 0s 164us/sample - loss: 0.6137 - accuracy: 0.8064 - val_loss: 1.1227 - val_accuracy: 0.6186\n"
     ]
    }
   ],
   "source": [
    "num_epochs = 7\n",
    "history = model.fit(X_train, Y_train, epochs=num_epochs, validation_data=(X_test, Y_test), verbose=True)\n",
    "model.reset_metrics()\n",
    "model.save('DL_Model.h5')\n"
   ]
  },
  {
   "cell_type": "code",
   "execution_count": 23,
   "metadata": {},
   "outputs": [
    {
     "ename": "ValueError",
     "evalue": "Error when checking input: expected embedding_9_input to have shape (200,) but got array with shape (1,)",
     "output_type": "error",
     "traceback": [
      "\u001b[0;31m---------------------------------------------------------------------------\u001b[0m",
      "\u001b[0;31mValueError\u001b[0m                                Traceback (most recent call last)",
      "\u001b[0;32m<ipython-input-23-bdfa6c84736a>\u001b[0m in \u001b[0;36m<module>\u001b[0;34m\u001b[0m\n\u001b[1;32m     12\u001b[0m \u001b[0mmo\u001b[0m\u001b[0;34m.\u001b[0m\u001b[0mload_weights\u001b[0m\u001b[0;34m(\u001b[0m\u001b[0;34m'DL_Model.h5'\u001b[0m\u001b[0;34m)\u001b[0m\u001b[0;34m\u001b[0m\u001b[0;34m\u001b[0m\u001b[0m\n\u001b[1;32m     13\u001b[0m \u001b[0;34m\u001b[0m\u001b[0m\n\u001b[0;32m---> 14\u001b[0;31m \u001b[0mmo\u001b[0m\u001b[0;34m.\u001b[0m\u001b[0mpredict\u001b[0m\u001b[0;34m(\u001b[0m\u001b[0;34m[\u001b[0m\u001b[0mX_test\u001b[0m\u001b[0;34m[\u001b[0m\u001b[0;36m0\u001b[0m\u001b[0;34m]\u001b[0m\u001b[0;34m]\u001b[0m\u001b[0;34m)\u001b[0m\u001b[0;34m\u001b[0m\u001b[0;34m\u001b[0m\u001b[0m\n\u001b[0m\u001b[1;32m     15\u001b[0m \u001b[0;34m\u001b[0m\u001b[0m\n\u001b[1;32m     16\u001b[0m \u001b[0mprint\u001b[0m\u001b[0;34m(\u001b[0m\u001b[0mX_train\u001b[0m\u001b[0;34m[\u001b[0m\u001b[0;36m0\u001b[0m\u001b[0;34m]\u001b[0m\u001b[0;34m)\u001b[0m\u001b[0;34m\u001b[0m\u001b[0;34m\u001b[0m\u001b[0m\n",
      "\u001b[0;32m~/G_Projects/lib/python3.6/site-packages/tensorflow_core/python/keras/engine/training.py\u001b[0m in \u001b[0;36mpredict\u001b[0;34m(self, x, batch_size, verbose, steps, callbacks, max_queue_size, workers, use_multiprocessing)\u001b[0m\n\u001b[1;32m    907\u001b[0m         \u001b[0mmax_queue_size\u001b[0m\u001b[0;34m=\u001b[0m\u001b[0mmax_queue_size\u001b[0m\u001b[0;34m,\u001b[0m\u001b[0;34m\u001b[0m\u001b[0;34m\u001b[0m\u001b[0m\n\u001b[1;32m    908\u001b[0m         \u001b[0mworkers\u001b[0m\u001b[0;34m=\u001b[0m\u001b[0mworkers\u001b[0m\u001b[0;34m,\u001b[0m\u001b[0;34m\u001b[0m\u001b[0;34m\u001b[0m\u001b[0m\n\u001b[0;32m--> 909\u001b[0;31m         use_multiprocessing=use_multiprocessing)\n\u001b[0m\u001b[1;32m    910\u001b[0m \u001b[0;34m\u001b[0m\u001b[0m\n\u001b[1;32m    911\u001b[0m   \u001b[0;32mdef\u001b[0m \u001b[0mreset_metrics\u001b[0m\u001b[0;34m(\u001b[0m\u001b[0mself\u001b[0m\u001b[0;34m)\u001b[0m\u001b[0;34m:\u001b[0m\u001b[0;34m\u001b[0m\u001b[0;34m\u001b[0m\u001b[0m\n",
      "\u001b[0;32m~/G_Projects/lib/python3.6/site-packages/tensorflow_core/python/keras/engine/training_v2.py\u001b[0m in \u001b[0;36mpredict\u001b[0;34m(self, model, x, batch_size, verbose, steps, callbacks, **kwargs)\u001b[0m\n\u001b[1;32m    460\u001b[0m     return self._model_iteration(\n\u001b[1;32m    461\u001b[0m         \u001b[0mmodel\u001b[0m\u001b[0;34m,\u001b[0m \u001b[0mModeKeys\u001b[0m\u001b[0;34m.\u001b[0m\u001b[0mPREDICT\u001b[0m\u001b[0;34m,\u001b[0m \u001b[0mx\u001b[0m\u001b[0;34m=\u001b[0m\u001b[0mx\u001b[0m\u001b[0;34m,\u001b[0m \u001b[0mbatch_size\u001b[0m\u001b[0;34m=\u001b[0m\u001b[0mbatch_size\u001b[0m\u001b[0;34m,\u001b[0m \u001b[0mverbose\u001b[0m\u001b[0;34m=\u001b[0m\u001b[0mverbose\u001b[0m\u001b[0;34m,\u001b[0m\u001b[0;34m\u001b[0m\u001b[0;34m\u001b[0m\u001b[0m\n\u001b[0;32m--> 462\u001b[0;31m         steps=steps, callbacks=callbacks, **kwargs)\n\u001b[0m\u001b[1;32m    463\u001b[0m \u001b[0;34m\u001b[0m\u001b[0m\n\u001b[1;32m    464\u001b[0m \u001b[0;34m\u001b[0m\u001b[0m\n",
      "\u001b[0;32m~/G_Projects/lib/python3.6/site-packages/tensorflow_core/python/keras/engine/training_v2.py\u001b[0m in \u001b[0;36m_model_iteration\u001b[0;34m(self, model, mode, x, y, batch_size, verbose, sample_weight, steps, callbacks, **kwargs)\u001b[0m\n\u001b[1;32m    394\u001b[0m           \u001b[0msample_weights\u001b[0m\u001b[0;34m=\u001b[0m\u001b[0msample_weight\u001b[0m\u001b[0;34m,\u001b[0m\u001b[0;34m\u001b[0m\u001b[0;34m\u001b[0m\u001b[0m\n\u001b[1;32m    395\u001b[0m           \u001b[0msteps\u001b[0m\u001b[0;34m=\u001b[0m\u001b[0msteps\u001b[0m\u001b[0;34m,\u001b[0m\u001b[0;34m\u001b[0m\u001b[0;34m\u001b[0m\u001b[0m\n\u001b[0;32m--> 396\u001b[0;31m           distribution_strategy=strategy)\n\u001b[0m\u001b[1;32m    397\u001b[0m       \u001b[0mtotal_samples\u001b[0m \u001b[0;34m=\u001b[0m \u001b[0m_get_total_number_of_samples\u001b[0m\u001b[0;34m(\u001b[0m\u001b[0madapter\u001b[0m\u001b[0;34m)\u001b[0m\u001b[0;34m\u001b[0m\u001b[0;34m\u001b[0m\u001b[0m\n\u001b[1;32m    398\u001b[0m       \u001b[0muse_sample\u001b[0m \u001b[0;34m=\u001b[0m \u001b[0mtotal_samples\u001b[0m \u001b[0;32mis\u001b[0m \u001b[0;32mnot\u001b[0m \u001b[0;32mNone\u001b[0m\u001b[0;34m\u001b[0m\u001b[0;34m\u001b[0m\u001b[0m\n",
      "\u001b[0;32m~/G_Projects/lib/python3.6/site-packages/tensorflow_core/python/keras/engine/training_v2.py\u001b[0m in \u001b[0;36m_process_inputs\u001b[0;34m(model, x, y, batch_size, epochs, sample_weights, class_weights, shuffle, steps, distribution_strategy, max_queue_size, workers, use_multiprocessing)\u001b[0m\n\u001b[1;32m    592\u001b[0m         \u001b[0mbatch_size\u001b[0m\u001b[0;34m=\u001b[0m\u001b[0mbatch_size\u001b[0m\u001b[0;34m,\u001b[0m\u001b[0;34m\u001b[0m\u001b[0;34m\u001b[0m\u001b[0m\n\u001b[1;32m    593\u001b[0m         \u001b[0mcheck_steps\u001b[0m\u001b[0;34m=\u001b[0m\u001b[0;32mFalse\u001b[0m\u001b[0;34m,\u001b[0m\u001b[0;34m\u001b[0m\u001b[0;34m\u001b[0m\u001b[0m\n\u001b[0;32m--> 594\u001b[0;31m         steps=steps)\n\u001b[0m\u001b[1;32m    595\u001b[0m   adapter = adapter_cls(\n\u001b[1;32m    596\u001b[0m       \u001b[0mx\u001b[0m\u001b[0;34m,\u001b[0m\u001b[0;34m\u001b[0m\u001b[0;34m\u001b[0m\u001b[0m\n",
      "\u001b[0;32m~/G_Projects/lib/python3.6/site-packages/tensorflow_core/python/keras/engine/training.py\u001b[0m in \u001b[0;36m_standardize_user_data\u001b[0;34m(self, x, y, sample_weight, class_weight, batch_size, check_steps, steps_name, steps, validation_split, shuffle, extract_tensors_from_dataset)\u001b[0m\n\u001b[1;32m   2470\u001b[0m           \u001b[0mfeed_input_shapes\u001b[0m\u001b[0;34m,\u001b[0m\u001b[0;34m\u001b[0m\u001b[0;34m\u001b[0m\u001b[0m\n\u001b[1;32m   2471\u001b[0m           \u001b[0mcheck_batch_axis\u001b[0m\u001b[0;34m=\u001b[0m\u001b[0;32mFalse\u001b[0m\u001b[0;34m,\u001b[0m  \u001b[0;31m# Don't enforce the batch size.\u001b[0m\u001b[0;34m\u001b[0m\u001b[0;34m\u001b[0m\u001b[0m\n\u001b[0;32m-> 2472\u001b[0;31m           exception_prefix='input')\n\u001b[0m\u001b[1;32m   2473\u001b[0m \u001b[0;34m\u001b[0m\u001b[0m\n\u001b[1;32m   2474\u001b[0m     \u001b[0;31m# Get typespecs for the input data and sanitize it if necessary.\u001b[0m\u001b[0;34m\u001b[0m\u001b[0;34m\u001b[0m\u001b[0;34m\u001b[0m\u001b[0m\n",
      "\u001b[0;32m~/G_Projects/lib/python3.6/site-packages/tensorflow_core/python/keras/engine/training_utils.py\u001b[0m in \u001b[0;36mstandardize_input_data\u001b[0;34m(data, names, shapes, check_batch_axis, exception_prefix)\u001b[0m\n\u001b[1;32m    572\u001b[0m                              \u001b[0;34m': expected '\u001b[0m \u001b[0;34m+\u001b[0m \u001b[0mnames\u001b[0m\u001b[0;34m[\u001b[0m\u001b[0mi\u001b[0m\u001b[0;34m]\u001b[0m \u001b[0;34m+\u001b[0m \u001b[0;34m' to have shape '\u001b[0m \u001b[0;34m+\u001b[0m\u001b[0;34m\u001b[0m\u001b[0;34m\u001b[0m\u001b[0m\n\u001b[1;32m    573\u001b[0m                              \u001b[0mstr\u001b[0m\u001b[0;34m(\u001b[0m\u001b[0mshape\u001b[0m\u001b[0;34m)\u001b[0m \u001b[0;34m+\u001b[0m \u001b[0;34m' but got array with shape '\u001b[0m \u001b[0;34m+\u001b[0m\u001b[0;34m\u001b[0m\u001b[0;34m\u001b[0m\u001b[0m\n\u001b[0;32m--> 574\u001b[0;31m                              str(data_shape))\n\u001b[0m\u001b[1;32m    575\u001b[0m   \u001b[0;32mreturn\u001b[0m \u001b[0mdata\u001b[0m\u001b[0;34m\u001b[0m\u001b[0;34m\u001b[0m\u001b[0m\n\u001b[1;32m    576\u001b[0m \u001b[0;34m\u001b[0m\u001b[0m\n",
      "\u001b[0;31mValueError\u001b[0m: Error when checking input: expected embedding_9_input to have shape (200,) but got array with shape (1,)"
     ]
    }
   ],
   "source": [
    "mo = tf.keras.Sequential([\n",
    "    tf.keras.layers.Embedding(vocab_size, embedding_dim, input_length=max_length),\n",
    "    tf.keras.layers.GlobalMaxPool1D(),\n",
    "    tf.keras.layers.Dense(1000, activation='relu'),\n",
    "    tf.keras.layers.Dropout(0.5),\n",
    "    tf.keras.layers.Dense(10, activation='softmax')\n",
    "])\n",
    "\n",
    "mo.compile(loss='sparse_categorical_crossentropy', optimizer='adam', metrics=['accuracy'])\n",
    "\n",
    "\n",
    "mo.load_weights('DL_Model.h5')\n",
    "\n",
    "mo.predict([X_test[0]])\n",
    "\n",
    "print(X_train[0])\n",
    "print(X_train.shape)"
   ]
  },
  {
   "cell_type": "code",
   "execution_count": 15,
   "metadata": {},
   "outputs": [
    {
     "name": "stdout",
     "output_type": "stream",
     "text": [
      "Training Accuracy: 0.8797\n",
      "Testing Accuracy:  0.6186\n"
     ]
    },
    {
     "data": {
      "image/png": "[encoded data removed]",
      "text/plain": [
       "<Figure size 864x360 with 2 Axes>"
      ]
     },
     "metadata": {},
     "output_type": "display_data"
    }
   ],
   "source": [
    "plot_history(history)\n",
    "loss, accuracy = model.evaluate(X_train, Y_train, verbose=False)\n",
    "print(\"Training Accuracy: {:.4f}\".format(accuracy))\n",
    "loss, accuracy = model.evaluate(X_test, Y_test, verbose=False)\n",
    "print(\"Testing Accuracy:  {:.4f}\".format(accuracy))"
   ]
  },
  {
   "cell_type": "code",
   "execution_count": null,
   "metadata": {},
   "outputs": [],
   "source": [
    "vocab_size = len(tokenizer.word_index) + 1  \n",
    "\n",
    "import numpy as np\n",
    "\n",
    "def create_embedding_matrix(filepath, word_index, embedding_dim):\n",
    "    vocab_size = len(word_index) + 1  # Adding again 1 because of reserved 0 index\n",
    "    embedding_matrix = np.zeros((vocab_size, embedding_dim))\n",
    "\n",
    "    with open(filepath) as f:\n",
    "        for line in f:\n",
    "            word, *vector = line.split()\n",
    "            if word in word_index:\n",
    "                idx = word_index[word] \n",
    "                embedding_matrix[idx] = np.array(\n",
    "                    vector, dtype=np.float32)[:embedding_dim]\n",
    "\n",
    "    return embedding_matrix\n",
    "print(vocab_size)"
   ]
  },
  {
   "cell_type": "code",
   "execution_count": null,
   "metadata": {},
   "outputs": [],
   "source": [
    "embedding_dim = 50\n",
    "embedding_matrix = create_embedding_matrix(\n",
    "        'glove.6B.50d.txt',\n",
    "        tokenizer.word_index, embedding_dim)\n"
   ]
  },
  {
   "cell_type": "code",
   "execution_count": null,
   "metadata": {},
   "outputs": [],
   "source": [
    "nonzero_elements = np.count_nonzero(np.count_nonzero(embedding_matrix, axis=1))\n",
    "print(nonzero_elements / vocab_size)"
   ]
  },
  {
   "cell_type": "code",
   "execution_count": null,
   "metadata": {},
   "outputs": [],
   "source": [
    "input_dim = X_train.shape[1]  # Number of features\n",
    "\n",
    "model = tf.keras.Sequential([\n",
    "    tf.keras.layers.Embedding(vocab_size, embedding_dim, weights=[embedding_matrix],\n",
    "                              input_length=max_length, trainable=False),\n",
    "    tf.keras.layers.GlobalMaxPool1D(),\n",
    "    tf.keras.layers.Dense(1000, activation='relu'),\n",
    "    tf.keras.layers.Dropout(0.5),\n",
    "    tf.keras.layers.Dense(10, activation='softmax')\n",
    "])\n",
    "model.summary()\n",
    "model.compile(loss='sparse_categorical_crossentropy', optimizer='adam', metrics=['accuracy'])\n"
   ]
  },
  {
   "cell_type": "code",
   "execution_count": null,
   "metadata": {},
   "outputs": [],
   "source": [
    "num_epochs = 20\n",
    "history = model.fit(X_train, Y_train, epochs=num_epochs, validation_data=(X_test, Y_test), verbose=True)"
   ]
  },
  {
   "cell_type": "code",
   "execution_count": null,
   "metadata": {},
   "outputs": [],
   "source": [
    "plot_history(history)\n",
    "loss, accuracy = model.evaluate(X_train, Y_train, verbose=False)\n",
    "print(\"Training Accuracy: {:.4f}\".format(accuracy))\n",
    "loss, accuracy = model.evaluate(X_test, Y_test, verbose=False)\n",
    "print(\"Testing Accuracy:  {:.4f}\".format(accuracy))"
   ]
  },
  {
   "cell_type": "code",
   "execution_count": null,
   "metadata": {},
   "outputs": [],
   "source": [
    "input_dim = X_train.shape[1]  # Number of features\n",
    "\n",
    "model = tf.keras.Sequential([\n",
    "    tf.keras.layers.Embedding(vocab_size, embedding_dim, weights=[embedding_matrix],\n",
    "                              input_length=max_length, trainable=True),\n",
    "    tf.keras.layers.GlobalMaxPool1D(),\n",
    "    tf.keras.layers.Dense(1000, activation='relu'),\n",
    "    tf.keras.layers.Dropout(0.5),\n",
    "    tf.keras.layers.Dense(10, activation='softmax')\n",
    "])\n",
    "model.summary()\n",
    "model.compile(loss='sparse_categorical_crossentropy', optimizer='adam', metrics=['accuracy'])\n"
   ]
  },
  {
   "cell_type": "code",
   "execution_count": null,
   "metadata": {},
   "outputs": [],
   "source": [
    "num_epochs = 25\n",
    "history = model.fit(X_train, Y_train, epochs=num_epochs, validation_data=(X_test, Y_test), verbose=True)"
   ]
  },
  {
   "cell_type": "code",
   "execution_count": null,
   "metadata": {},
   "outputs": [],
   "source": [
    "plot_history(history)\n",
    "loss, accuracy = model.evaluate(X_train, Y_train, verbose=False)\n",
    "print(\"Training Accuracy: {:.4f}\".format(accuracy))\n",
    "loss, accuracy = model.evaluate(X_test, Y_test, verbose=False)\n",
    "print(\"Testing Accuracy:  {:.4f}\".format(accuracy))"
   ]
  },
  {
   "cell_type": "code",
   "execution_count": null,
   "metadata": {},
   "outputs": [],
   "source": [
    "model = tf.keras.Sequential([\n",
    "    # Add an Embedding layer expecting input vocab of size 5000, and output embedding dimension of size 64 we set at the top\n",
    "    tf.keras.layers.Embedding(vocab_size, embedding_dim),\n",
    "    tf.keras.layers.Bidirectional(tf.keras.layers.LSTM(embedding_dim)),\n",
    "    tf.keras.layers.Dense(1000, activation='relu'),\n",
    "    tf.keras.layers.Dropout(0.5),\n",
    "    tf.keras.layers.Dense(10, activation='softmax')\n",
    "])\n",
    "model.summary()\n",
    "\n",
    "model.compile(loss='sparse_categorical_crossentropy', optimizer='adam', metrics=['accuracy'])\n",
    "\n"
   ]
  },
  {
   "cell_type": "code",
   "execution_count": null,
   "metadata": {},
   "outputs": [],
   "source": [
    "num_epochs = 15\n",
    "history = model.fit(X_train, Y_train, epochs=num_epochs, validation_data=(X_test, Y_test), verbose=True)"
   ]
  },
  {
   "cell_type": "code",
   "execution_count": null,
   "metadata": {},
   "outputs": [],
   "source": [
    "plot_history(history)\n",
    "loss, accuracy = model.evaluate(X_train, Y_train, verbose=False)\n",
    "print(\"Training Accuracy: {:.4f}\".format(accuracy))\n",
    "loss, accuracy = model.evaluate(X_test, Y_test, verbose=False)\n",
    "print(\"Testing Accuracy:  {:.4f}\".format(accuracy))"
   ]
  },
  {
   "cell_type": "code",
   "execution_count": null,
   "metadata": {},
   "outputs": [],
   "source": [
    "input_dim = X_train.shape[1]  # Number of features\n",
    "\n",
    "model = tf.keras.Sequential([\n",
    "    tf.keras.layers.Embedding(vocab_size, embedding_dim, input_length=max_length),\n",
    "    tf.keras.layers.Conv1D(128, 13, activation='relu'),\n",
    "    tf.keras.layers.GlobalMaxPool1D(),\n",
    "    tf.keras.layers.Dense(500, activation='relu'),\n",
    "    tf.keras.layers.Dropout(0.5),\n",
    "    tf.keras.layers.Dense(10, activation='softmax')\n",
    "])\n",
    "model.summary()\n",
    "model.compile(loss='sparse_categorical_crossentropy', optimizer='adam', metrics=['accuracy'])\n"
   ]
  },
  {
   "cell_type": "code",
   "execution_count": null,
   "metadata": {},
   "outputs": [],
   "source": [
    "num_epochs = 9\n",
    "history = model.fit(X_train, Y_train, epochs=num_epochs, validation_data=(X_test, Y_test), verbose=True)"
   ]
  },
  {
   "cell_type": "code",
   "execution_count": null,
   "metadata": {},
   "outputs": [],
   "source": [
    "plot_history(history)\n",
    "loss, accuracy = model.evaluate(X_train, Y_train, verbose=False)\n",
    "print(\"Training Accuracy: {:.4f}\".format(accuracy))\n",
    "loss, accuracy = model.evaluate(X_test, Y_test, verbose=False)\n",
    "print(\"Testing Accuracy:  {:.4f}\".format(accuracy))"
   ]
  },
  {
   "cell_type": "markdown",
   "metadata": {},
   "source": [
    "32 5 is 47\n",
    "32 3 is 52\n",
    "32 7 is 46\n",
    "64 3 is 56\n",
    "64 5 is 55\n",
    "64 7 is 49\n",
    "128 3 is 58\n",
    "128 5 is 52\n",
    "128 7 is 50\n",
    "128 13 is 50"
   ]
  },
  {
   "cell_type": "code",
   "execution_count": null,
   "metadata": {},
   "outputs": [],
   "source": []
  }
 ],
 "metadata": {
  "kernelspec": {
   "display_name": "Python 3",
   "language": "python",
   "name": "python3"
  },
  "language_info": {
   "codemirror_mode": {
    "name": "ipython",
    "version": 3
   },
   "file_extension": ".py",
   "mimetype": "text/x-python",
   "name": "python",
   "nbconvert_exporter": "python",
   "pygments_lexer": "ipython3",
   "version": "3.6.9"
  }
 },
 "nbformat": 4,
 "nbformat_minor": 4
}
