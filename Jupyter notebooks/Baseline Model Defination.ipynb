{
 "cells": [
  {
   "cell_type": "markdown",
   "metadata": {},
   "source": [
    "# Defining a Baseline Model:\n",
    "<br>\n",
    "<b>\n",
    "Defined a simple model, which is will be used as a comparison with the more advanced models that we will be test. The evaluation and seletion of this model was done in the Baseline Model Experiment-Log.\n",
    "</b> "
   ]
  },
  {
   "cell_type": "markdown",
   "metadata": {},
   "source": [
    "## Loading the Data set:"
   ]
  },
  {
   "cell_type": "code",
   "execution_count": 1,
   "metadata": {},
   "outputs": [],
   "source": [
    "import pandas as pd\n",
    "import numpy as np"
   ]
  },
  {
   "cell_type": "markdown",
   "metadata": {},
   "source": [
    "<b>\n",
    "Created a pandas dataframe and removed all the NULL values from the dataset.<br>\n",
    "Replaced the names of Fliars with corresponding integers.<br>\n",
    "Displayed the head and shape of the data for debugging.\n",
    "</b>"
   ]
  },
  {
   "cell_type": "code",
   "execution_count": 2,
   "metadata": {},
   "outputs": [
    {
     "name": "stdout",
     "output_type": "stream",
     "text": [
      "0    Photography\n",
      "1    Photography\n",
      "2    Photography\n",
      "3    Photography\n",
      "4    Photography\n",
      "Name: flair, dtype: object\n",
      "(2422,)\n"
     ]
    }
   ],
   "source": [
    "data = pd.read_csv('f_300_cleaned.csv')\n",
    "data.fillna(\"\",inplace = True)\n",
    "\n",
    "#data.replace({'flair': {\"AskIndia\": 0, \"Non-Political\": 1, \"Scheduled\": 2, \"Photography\": 3,\"Science/Technology\": 4,\n",
    "#        \"Politics\": 5, \"Business/Finance\": 6, \"Policy/Economy\": 7,\"Sports\": 8, \"Food\": 9 }}, inplace=True)\n",
    "\n",
    "\n",
    "title_body = data[\"title\"] + \". \" + data[\"body\"]  \n",
    "data = data.assign(title_body = title_body)\n",
    "\n",
    "Y = data.flair\n",
    "X = data.combined_features\n",
    "\n",
    "print(Y.head())\n",
    "print(Y.shape)"
   ]
  },
  {
   "cell_type": "code",
   "execution_count": 3,
   "metadata": {},
   "outputs": [],
   "source": [
    "from sklearn.model_selection import train_test_split\n",
    "\n",
    "from sklearn.pipeline import Pipeline\n",
    "from sklearn.feature_extraction.text import TfidfTransformer\n",
    "from sklearn.feature_extraction.text import CountVectorizer\n",
    "from sklearn.metrics import classification_report\n",
    "from sklearn.metrics import accuracy_score\n",
    "\n",
    "from sklearn.linear_model import SGDClassifier\n",
    "\n",
    "from sklearn.model_selection import cross_val_score, cross_val_predict\n",
    "from sklearn.metrics import mean_squared_error,r2_score\n",
    "from sklearn.model_selection import KFold\n",
    "from sklearn import model_selection\n",
    "\n",
    "from sklearn import metrics\n",
    "\n",
    "import pickle"
   ]
  },
  {
   "cell_type": "markdown",
   "metadata": {},
   "source": [
    "<b>\n",
    "    Split the data into a training and testing set to evaluate the accuracy and to evaluate if the model generalizes well or if it overfits.\n",
    "</b>"
   ]
  },
  {
   "cell_type": "code",
   "execution_count": 4,
   "metadata": {},
   "outputs": [],
   "source": [
    "X_train, X_test, Y_train, Y_test = train_test_split(X, Y, test_size=0.3, random_state = 42)"
   ]
  },
  {
   "cell_type": "markdown",
   "metadata": {},
   "source": [
    "<b>\n",
    "Created a pipeline which first converts the data into a count matrix followed by its tranformation into a normalized tf or tf-idf representation, this helps in document classification.\n",
    "The data is then passes to the Linear SVM model.\n",
    "<br>I have made certain adjustment like, increase the maximum iterations, to the model to suit my data as it could converge properly.\n",
    "</b>"
   ]
  },
  {
   "cell_type": "code",
   "execution_count": 5,
   "metadata": {},
   "outputs": [],
   "source": [
    "sgd = Pipeline([('vect', CountVectorizer()), ('tfidf', TfidfTransformer()), \n",
    "    ('clf', SGDClassifier(loss='hinge', penalty='l2',alpha=1e-3, random_state=42, max_iter=5, tol=None))])"
   ]
  },
  {
   "cell_type": "markdown",
   "metadata": {},
   "source": [
    "<b> Here I fit the train data to our pipline.<br>\n",
    "Further made predicitons on the Test data for determination of accuracy and validation.\n",
    "</b>"
   ]
  },
  {
   "cell_type": "code",
   "execution_count": 6,
   "metadata": {},
   "outputs": [
    {
     "name": "stdout",
     "output_type": "stream",
     "text": [
      "accuracy 0.6781292984869326\n",
      "                    precision    recall  f1-score   support\n",
      "\n",
      "          AskIndia       0.59      0.45      0.51        75\n",
      "     Non-Political       0.55      0.54      0.55        70\n",
      "         Scheduled       0.76      0.77      0.77        74\n",
      "       Photography       0.44      0.18      0.26        65\n",
      "Science/Technology       0.70      0.96      0.81        77\n",
      "          Politics       0.54      0.53      0.53        70\n",
      "  Business/Finance       0.59      0.87      0.70        82\n",
      "    Policy/Economy       0.88      0.97      0.93        71\n",
      "            Sports       0.76      0.56      0.64        84\n",
      "              Food       0.87      0.92      0.89        59\n",
      "\n",
      "          accuracy                           0.68       727\n",
      "         macro avg       0.67      0.68      0.66       727\n",
      "      weighted avg       0.67      0.68      0.66       727\n",
      "\n"
     ]
    }
   ],
   "source": [
    "flairs = [\"AskIndia\", \"Non-Political\", \"Scheduled\", \"Photography\", \"Science/Technology\",\n",
    "          \"Politics\", \"Business/Finance\", \"Policy/Economy\",\"Sports\", \"Food\"]\n",
    "\n",
    "sgd.fit(X_train, Y_train)\n",
    "Y_pred = sgd.predict(X_test)\n",
    "\n",
    "print('accuracy %s' % accuracy_score(Y_pred, Y_test))\n",
    "print(classification_report(Y_test, Y_pred,target_names=flairs))"
   ]
  },
  {
   "cell_type": "markdown",
   "metadata": {},
   "source": [
    "<b>\n",
    "Pickled the fit model for using it in the WebApp.\n",
    "</b>"
   ]
  },
  {
   "cell_type": "code",
   "execution_count": 7,
   "metadata": {},
   "outputs": [],
   "source": [
    "filename = 'SVM.pkl'\n",
    "pickle.dump(sgd, open(filename, 'wb'))"
   ]
  },
  {
   "cell_type": "markdown",
   "metadata": {},
   "source": [
    "<b>\n",
    "Performed K Fold Cross Validation on the model.\n",
    "    </b>"
   ]
  },
  {
   "cell_type": "code",
   "execution_count": 8,
   "metadata": {},
   "outputs": [
    {
     "name": "stdout",
     "output_type": "stream",
     "text": [
      "Accuracy: 60.33%\n"
     ]
    },
    {
     "data": {
      "text/plain": [
       "'cv_r2_scores_rf = cross_val_score(sgd, X, Y, cv=5,scoring=\\'r2\\')\\nprint(cv_r2_scores_rf)\\nprint(\"Mean 5-Fold R Squared: {}\".format(np.mean(cv_r2_scores_rf)))'"
      ]
     },
     "execution_count": 8,
     "metadata": {},
     "output_type": "execute_result"
    }
   ],
   "source": [
    "model = pickle.load(open('SVM.pkl','rb'))\n",
    "\n",
    "kfold = model_selection.KFold(n_splits=50)\n",
    "results_kfold = model_selection.cross_val_score(model, X, Y, cv=kfold)\n",
    "print(\"Accuracy: %.2f%%\" % (results_kfold.mean()*100.0)) "
   ]
  },
  {
   "cell_type": "markdown",
   "metadata": {},
   "source": [
    "<b>Random Testing</b>"
   ]
  },
  {
   "cell_type": "code",
   "execution_count": 9,
   "metadata": {},
   "outputs": [
    {
     "name": "stdout",
     "output_type": "stream",
     "text": [
      "['Business/Finance']\n",
      "['Sports']\n"
     ]
    }
   ],
   "source": [
    "model = pickle.load(open('SVM.pkl','rb'))\n",
    "\n",
    "print(model.predict([\"RBI cuts pay check rates\"]))\n",
    "print(model.predict([\"Sachin plays cricket with a bat\"]))"
   ]
  },
  {
   "cell_type": "code",
   "execution_count": null,
   "metadata": {},
   "outputs": [],
   "source": []
  }
 ],
 "metadata": {
  "kernelspec": {
   "display_name": "Python 3",
   "language": "python",
   "name": "python3"
  },
  "language_info": {
   "codemirror_mode": {
    "name": "ipython",
    "version": 3
   },
   "file_extension": ".py",
   "mimetype": "text/x-python",
   "name": "python",
   "nbconvert_exporter": "python",
   "pygments_lexer": "ipython3",
   "version": "3.6.9"
  }
 },
 "nbformat": 4,
 "nbformat_minor": 4
}
